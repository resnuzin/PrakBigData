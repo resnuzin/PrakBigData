{
 "cells": [
  {
   "cell_type": "markdown",
   "id": "4205cfa5-5c7d-400d-8bd0-6b4ad0a8c277",
   "metadata": {},
   "source": [
    "# Resnu Mukti Ismail Hanif (2310506012)"
   ]
  },
  {
   "cell_type": "markdown",
   "id": "f89f7684",
   "metadata": {},
   "source": [
    "# Hands-On Pertemuan 6: Data Processing dengan Apache Spark"
   ]
  },
  {
   "cell_type": "markdown",
   "id": "cd5c2f90",
   "metadata": {},
   "source": [
    "### 1. Pengenalan Spark DataFrames\n",
    "Spark DataFrame menyediakan struktur data yang optimal dengan operasi yang dioptimalkan untuk pemrosesan data besar, yang sangat mirip dengan DataFrame di Pandas atau di RDBMS.\n",
    "\n",
    "- **Tugas 1**: Buat DataFrame sederhana di Spark dan eksplorasi beberapa fungsi dasar yang tersedia."
   ]
  },
  {
   "cell_type": "code",
   "execution_count": 1,
   "id": "986d01c7",
   "metadata": {},
   "outputs": [
    {
     "name": "stdout",
     "output_type": "stream",
     "text": [
      "+------------+----------+------+\n",
      "|EmployeeName|Department|Salary|\n",
      "+------------+----------+------+\n",
      "|       James|     Sales|  3000|\n",
      "|     Michael|     Sales|  4600|\n",
      "|      Robert|     Sales|  4100|\n",
      "|       Maria|   Finance|  3000|\n",
      "+------------+----------+------+\n",
      "\n"
     ]
    }
   ],
   "source": [
    "import findspark\n",
    "findspark.init()\n",
    "\n",
    "from pyspark.sql import SparkSession\n",
    "spark = SparkSession.builder.appName('HandsOnPertemuan6').getOrCreate()\n",
    "\n",
    "data = [('James', 'Sales', 3000),\n",
    "        ('Michael', 'Sales', 4600),\n",
    "        ('Robert', 'Sales', 4100),\n",
    "        ('Maria', 'Finance', 3000)]\n",
    "columns = ['EmployeeName', 'Department', 'Salary']\n",
    "\n",
    "df = spark.createDataFrame(data, schema=columns)\n",
    "df.show()"
   ]
  },
  {
   "cell_type": "markdown",
   "id": "fca66b73",
   "metadata": {},
   "source": [
    "### 2. Transformasi Dasar dengan DataFrames\n",
    "Pemrosesan data meliputi transformasi seperti filtering, selections, dan aggregations. Spark menyediakan cara efisien untuk melaksanakan operasi ini.\n",
    "\n",
    "- **Tugas 2**: Gunakan operasi filter, select, groupBy untuk mengekstrak informasi dari data, serta lakukan agregasi data untuk mendapatkan insight tentang dataset menggunakan perintah seperti mean, max, sum."
   ]
  },
  {
   "cell_type": "code",
   "execution_count": 2,
   "id": "58232678",
   "metadata": {},
   "outputs": [
    {
     "name": "stdout",
     "output_type": "stream",
     "text": [
      "+------------+------+\n",
      "|EmployeeName|Salary|\n",
      "+------------+------+\n",
      "|       James|  3000|\n",
      "|     Michael|  4600|\n",
      "|      Robert|  4100|\n",
      "|       Maria|  3000|\n",
      "+------------+------+\n",
      "\n",
      "+------------+----------+------+\n",
      "|EmployeeName|Department|Salary|\n",
      "+------------+----------+------+\n",
      "|     Michael|     Sales|  4600|\n",
      "|      Robert|     Sales|  4100|\n",
      "+------------+----------+------+\n",
      "\n",
      "+----------+-----------+\n",
      "|Department|avg(Salary)|\n",
      "+----------+-----------+\n",
      "|     Sales|     3900.0|\n",
      "|   Finance|     3000.0|\n",
      "+----------+-----------+\n",
      "\n"
     ]
    }
   ],
   "source": [
    "df.select('EmployeeName', 'Salary').show()\n",
    "df.filter(df['Salary'] > 3000).show()\n",
    "df.groupBy('Department').avg('Salary').show()"
   ]
  },
  {
   "cell_type": "code",
   "execution_count": 3,
   "id": "b6829342-192b-4087-b3fb-94ea19815c9d",
   "metadata": {},
   "outputs": [
    {
     "name": "stdout",
     "output_type": "stream",
     "text": [
      "+-----------+\n",
      "|avg(Salary)|\n",
      "+-----------+\n",
      "|     3675.0|\n",
      "+-----------+\n",
      "\n",
      "+-----------+\n",
      "|max(Salary)|\n",
      "+-----------+\n",
      "|       4600|\n",
      "+-----------+\n",
      "\n",
      "+-----------+\n",
      "|sum(Salary)|\n",
      "+-----------+\n",
      "|      14700|\n",
      "+-----------+\n",
      "\n"
     ]
    }
   ],
   "source": [
    "from pyspark.sql.functions import mean, max, sum\n",
    "df.select(mean(\"Salary\")).show()\n",
    "df.select(max(\"Salary\")).show()\n",
    "df.select(sum(\"Salary\")).show()"
   ]
  },
  {
   "cell_type": "markdown",
   "id": "89763d36",
   "metadata": {},
   "source": [
    "### 3. Bekerja dengan Tipe Data Kompleks\n",
    "Spark mendukung tipe data yang kompleks seperti maps, arrays, dan structs yang memungkinkan operasi yang lebih kompleks pada dataset yang kompleks.\n",
    "\n",
    "- **Tugas 3**: Eksplorasi bagaimana mengolah tipe data kompleks dalam Spark DataFrames."
   ]
  },
  {
   "cell_type": "code",
   "execution_count": 4,
   "id": "14701d79",
   "metadata": {},
   "outputs": [
    {
     "name": "stdout",
     "output_type": "stream",
     "text": [
      "+------------+----------+------+-----------+-----------------+\n",
      "|EmployeeName|Department|Salary|SalaryBonus|TotalCompensation|\n",
      "+------------+----------+------+-----------+-----------------+\n",
      "|       James|     Sales|  3000|      300.0|           3300.0|\n",
      "|     Michael|     Sales|  4600|      460.0|           5060.0|\n",
      "|      Robert|     Sales|  4100|      410.0|           4510.0|\n",
      "|       Maria|   Finance|  3000|      300.0|           3300.0|\n",
      "+------------+----------+------+-----------+-----------------+\n",
      "\n"
     ]
    }
   ],
   "source": [
    "df = df.withColumn('SalaryBonus', df['Salary'] * 0.1)\n",
    "df = df.withColumn('TotalCompensation', df['Salary'] + df['SalaryBonus'])\n",
    "df.show()"
   ]
  },
  {
   "cell_type": "markdown",
   "id": "5b3b58dd",
   "metadata": {},
   "source": [
    "### 4. Operasi Data Lanjutan\n",
    "Menggunakan Spark untuk operasi lanjutan seperti window functions, user-defined functions (UDFs), dan mengoptimalkan query.\n",
    "\n",
    "- **Tugas 4**: Implementasikan window function untuk menghitung running totals atau rangkings."
   ]
  },
  {
   "cell_type": "code",
   "execution_count": 5,
   "id": "035312eb",
   "metadata": {},
   "outputs": [
    {
     "name": "stdout",
     "output_type": "stream",
     "text": [
      "+------------+----------+------+-----------+-----------------+----+\n",
      "|EmployeeName|Department|Salary|SalaryBonus|TotalCompensation|Rank|\n",
      "+------------+----------+------+-----------+-----------------+----+\n",
      "|       Maria|   Finance|  3000|      300.0|           3300.0|   1|\n",
      "|       James|     Sales|  3000|      300.0|           3300.0|   1|\n",
      "|      Robert|     Sales|  4100|      410.0|           4510.0|   2|\n",
      "|     Michael|     Sales|  4600|      460.0|           5060.0|   3|\n",
      "+------------+----------+------+-----------+-----------------+----+\n",
      "\n"
     ]
    }
   ],
   "source": [
    "from pyspark.sql.window import Window\n",
    "from pyspark.sql import functions as F\n",
    "\n",
    "windowSpec = Window.partitionBy('Department').orderBy('Salary')\n",
    "df.withColumn('Rank', F.rank().over(windowSpec)).show()"
   ]
  },
  {
   "cell_type": "markdown",
   "id": "f8a097ec",
   "metadata": {},
   "source": [
    "### 5. Kesimpulan dan Eksplorasi Lebih Lanjut\n",
    "Review apa yang telah dipelajari tentang pemrosesan data menggunakan Spark dan eksplorasi teknik lebih lanjut untuk mengoptimalkan pemrosesan data Anda.\n",
    "- **Tugas 5**: Buat ringkasan dari semua operasi yang telah dilakukan dan bagaimana teknik ini dapat diterapkan pada proyek data Anda."
   ]
  },
  {
   "cell_type": "code",
   "execution_count": 6,
   "id": "3d0104fe-be1f-4650-8a69-ce6b2b4aebba",
   "metadata": {},
   "outputs": [
    {
     "name": "stdout",
     "output_type": "stream",
     "text": [
      "+------+------------+----------+------+-------+\n",
      "|emp_id|EmployeeName|Department|Salary|address|\n",
      "+------+------------+----------+------+-------+\n",
      "|     1|       James|     Sales|  3000|     NY|\n",
      "|     2|     Michael|     Sales|  4600|     LA|\n",
      "+------+------------+----------+------+-------+\n",
      "\n"
     ]
    }
   ],
   "source": [
    "from pyspark.sql import SparkSession\n",
    "\n",
    "spark = SparkSession.builder.appName(\"joins\").getOrCreate()\n",
    "\n",
    "employees = spark.createDataFrame([(1,'James', 'Sales', 3000),\n",
    "        (2,'Michael', 'Sales', 4600),\n",
    "        (3,'Robert', 'Sales', 4100)], [\"emp_id\", 'EmployeeName', 'Department', 'Salary'])\n",
    "addresses = spark.createDataFrame([(1, \"NY\"), (2, \"LA\"), (4, \"DC\")], [\"emp_id\", \"address\"])\n",
    "\n",
    "result = employees.join(addresses, \"emp_id\", \"inner\")\n",
    "result.show()"
   ]
  },
  {
   "cell_type": "code",
   "execution_count": 7,
   "id": "3cb58b9f-1ce1-4509-920e-62a14dc523d5",
   "metadata": {},
   "outputs": [
    {
     "name": "stdout",
     "output_type": "stream",
     "text": [
      "+------+------------+----------+------+-------+\n",
      "|emp_id|EmployeeName|Department|Salary|address|\n",
      "+------+------------+----------+------+-------+\n",
      "|     1|       James|     Sales|  3000|     NY|\n",
      "|     2|     Michael|     Sales|  4600|     LA|\n",
      "|     3|      Robert|     Sales|  4100|   null|\n",
      "|     4|        null|      null|  null|     DC|\n",
      "+------+------------+----------+------+-------+\n",
      "\n"
     ]
    }
   ],
   "source": [
    "result = employees.join(addresses, \"emp_id\", \"outer\")\n",
    "result.show()"
   ]
  },
  {
   "cell_type": "code",
   "execution_count": 8,
   "id": "e4fd7810-614e-4b72-8d1f-6075f9e0d9d9",
   "metadata": {},
   "outputs": [
    {
     "name": "stdout",
     "output_type": "stream",
     "text": [
      "+------+------------+----------+------+-------+\n",
      "|emp_id|EmployeeName|Department|Salary|address|\n",
      "+------+------------+----------+------+-------+\n",
      "|     1|       James|     Sales|  3000|     NY|\n",
      "|     2|     Michael|     Sales|  4600|     LA|\n",
      "|     3|      Robert|     Sales|  4100|   null|\n",
      "+------+------------+----------+------+-------+\n",
      "\n"
     ]
    }
   ],
   "source": [
    "result = employees.join(addresses, \"emp_id\", \"left_outer\")\n",
    "result.show()"
   ]
  },
  {
   "cell_type": "code",
   "execution_count": 9,
   "id": "c5e7c838-771e-482e-a8db-684a496b7b36",
   "metadata": {},
   "outputs": [
    {
     "name": "stdout",
     "output_type": "stream",
     "text": [
      "+------+------------+----------+------+-------+\n",
      "|emp_id|EmployeeName|Department|Salary|address|\n",
      "+------+------------+----------+------+-------+\n",
      "|     1|       James|     Sales|  3000|     NY|\n",
      "|     2|     Michael|     Sales|  4600|     LA|\n",
      "|     4|        null|      null|  null|     DC|\n",
      "+------+------------+----------+------+-------+\n",
      "\n"
     ]
    }
   ],
   "source": [
    "result = employees.join(addresses, \"emp_id\", \"right_outer\")\n",
    "result.show()"
   ]
  },
  {
   "cell_type": "code",
   "execution_count": 10,
   "id": "b3f41573-f148-4769-8111-3bed5f203e61",
   "metadata": {},
   "outputs": [
    {
     "name": "stdout",
     "output_type": "stream",
     "text": [
      "+------+------------+----------+------+\n",
      "|emp_id|EmployeeName|Department|Salary|\n",
      "+------+------------+----------+------+\n",
      "|     1|       James|     Sales|  3000|\n",
      "|     2|     Michael|     Sales|  4600|\n",
      "+------+------------+----------+------+\n",
      "\n"
     ]
    }
   ],
   "source": [
    "result = employees.join(addresses, \"emp_id\", \"left_semi\")\n",
    "result.show()"
   ]
  },
  {
   "cell_type": "code",
   "execution_count": 11,
   "id": "7fefa557-2bdf-46f5-840c-986725d1e8e8",
   "metadata": {},
   "outputs": [
    {
     "name": "stdout",
     "output_type": "stream",
     "text": [
      "+------+------------+----------+------+\n",
      "|emp_id|EmployeeName|Department|Salary|\n",
      "+------+------------+----------+------+\n",
      "|     3|      Robert|     Sales|  4100|\n",
      "+------+------------+----------+------+\n",
      "\n"
     ]
    }
   ],
   "source": [
    "result = employees.join(addresses, \"emp_id\", \"left_anti\")\n",
    "result.show()"
   ]
  }
 ],
 "metadata": {
  "kernelspec": {
   "display_name": "Python 3 (ipykernel)",
   "language": "python",
   "name": "python3"
  },
  "language_info": {
   "codemirror_mode": {
    "name": "ipython",
    "version": 3
   },
   "file_extension": ".py",
   "mimetype": "text/x-python",
   "name": "python",
   "nbconvert_exporter": "python",
   "pygments_lexer": "ipython3",
   "version": "3.11.9"
  }
 },
 "nbformat": 4,
 "nbformat_minor": 5
}
