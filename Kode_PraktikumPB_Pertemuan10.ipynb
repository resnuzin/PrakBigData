{
  "cells": [
    {
      "cell_type": "markdown",
      "id": "36c82675",
      "metadata": {
        "id": "36c82675"
      },
      "source": [
        "# Resnu Mukti Ismail Hanif Praktikum BD Pertemuan 10: Implementasi NoSQL Database - MongoDB"
      ]
    },
    {
      "cell_type": "markdown",
      "id": "c541bd8b",
      "metadata": {
        "id": "c541bd8b"
      },
      "source": [
        "## Tujuan:\n",
        "- Mengenal konsep dasar dan pengimplementasian database NoSQL, khususnya MongoDB.\n",
        "- Melakukan berbagai operasi dasar pada MongoDB untuk analisis data.\n",
        "- Mengasah keterampilan dalam menulis query yang lebih kompleks.\n"
      ]
    },
    {
      "cell_type": "markdown",
      "id": "705e14f2",
      "metadata": {
        "id": "705e14f2"
      },
      "source": [
        "### 1. Menghubungkan ke Database MongoDB\n",
        "- **Tugas 1**: Pastikan MongoDB telah terpasang dan berjalan. Hubungkan ke MongoDB lokal.\n"
      ]
    },
    {
      "cell_type": "code",
      "source": [
        "pip install pymongo"
      ],
      "metadata": {
        "id": "WsqKBZ1dknL1",
        "outputId": "ecfd1434-9855-4cd9-9fc4-8f3f9736d21f",
        "colab": {
          "base_uri": "https://localhost:8080/"
        }
      },
      "id": "WsqKBZ1dknL1",
      "execution_count": 1,
      "outputs": [
        {
          "output_type": "stream",
          "name": "stdout",
          "text": [
            "Collecting pymongo\n",
            "  Downloading pymongo-4.10.1-cp310-cp310-manylinux_2_17_x86_64.manylinux2014_x86_64.whl.metadata (22 kB)\n",
            "Collecting dnspython<3.0.0,>=1.16.0 (from pymongo)\n",
            "  Downloading dnspython-2.7.0-py3-none-any.whl.metadata (5.8 kB)\n",
            "Downloading pymongo-4.10.1-cp310-cp310-manylinux_2_17_x86_64.manylinux2014_x86_64.whl (1.4 MB)\n",
            "\u001b[2K   \u001b[90m━━━━━━━━━━━━━━━━━━━━━━━━━━━━━━━━━━━━━━━━\u001b[0m \u001b[32m1.4/1.4 MB\u001b[0m \u001b[31m16.5 MB/s\u001b[0m eta \u001b[36m0:00:00\u001b[0m\n",
            "\u001b[?25hDownloading dnspython-2.7.0-py3-none-any.whl (313 kB)\n",
            "\u001b[2K   \u001b[90m━━━━━━━━━━━━━━━━━━━━━━━━━━━━━━━━━━━━━━━━\u001b[0m \u001b[32m313.6/313.6 kB\u001b[0m \u001b[31m10.0 MB/s\u001b[0m eta \u001b[36m0:00:00\u001b[0m\n",
            "\u001b[?25hInstalling collected packages: dnspython, pymongo\n",
            "Successfully installed dnspython-2.7.0 pymongo-4.10.1\n"
          ]
        }
      ]
    },
    {
      "cell_type": "markdown",
      "id": "0cd8858c",
      "metadata": {
        "id": "0cd8858c"
      },
      "source": [
        "### 2. Operasi CRUD Dasar\n",
        "- **Tugas 2**: Insert, Update, dan Delete data pada koleksi `employees`.\n"
      ]
    },
    {
      "cell_type": "code",
      "source": [
        "from pymongo import MongoClient\n",
        "\n",
        "# Inisialisasi client dan koneksi ke database\n",
        "client = MongoClient('mongodb+srv://resnumukti:<password>@prakbdw10.67seg.mongodb.net/?retryWrites=true&w=majority&appName=PrakBDW10')\n",
        "db = client['company_db']\n",
        "collection = db['employees']\n",
        "\n",
        "# Contoh untuk memastikan koneksi\n",
        "print('Connected to MongoDB')\n",
        "\n",
        "employee_data = {\n",
        "    'name': 'Alice', 'department': 'Finance', 'age': 29,'salary': 4500\n",
        "}\n",
        "collection.insert_one(employee_data)\n",
        "print('Data inserted')"
      ],
      "metadata": {
        "id": "djmU9YDXpWMW",
        "outputId": "773b4a74-5435-4cd1-c7a5-7ed5be9a7224",
        "colab": {
          "base_uri": "https://localhost:8080/"
        }
      },
      "id": "djmU9YDXpWMW",
      "execution_count": 12,
      "outputs": [
        {
          "output_type": "stream",
          "name": "stdout",
          "text": [
            "Connected to MongoDB\n",
            "Data inserted\n"
          ]
        }
      ]
    },
    {
      "cell_type": "code",
      "source": [
        "# Contoh Insert Data\n",
        "employees_data = [\n",
        "    {'name': 'Gema', 'department': 'Marketing', 'age': 22,'salary': 5000},\n",
        "    {'name': 'Meily', 'department': 'IT', 'age': 20,'salary': 6500},\n",
        "    {'name': 'Atul', 'department': 'Marketing', 'age': 18,'salary': 7000},\n",
        "    {'name': 'Zharifa', 'department': 'Finance', 'age': 19,'salary': 8000},\n",
        "    {'name': 'Resnu', 'department': 'IT', 'age': 19,'salary': 6000}\n",
        "]\n",
        "collection.insert_many(employees_data)\n",
        "print('Multiple data inserted')"
      ],
      "metadata": {
        "id": "9WPeFDwDtbCw",
        "outputId": "eac70bd0-0e03-489e-dbe4-7732d1de8580",
        "colab": {
          "base_uri": "https://localhost:8080/"
        }
      },
      "id": "9WPeFDwDtbCw",
      "execution_count": 14,
      "outputs": [
        {
          "output_type": "stream",
          "name": "stdout",
          "text": [
            "Multiple data inserted\n"
          ]
        }
      ]
    },
    {
      "cell_type": "code",
      "source": [
        "collection.update_one({'name': 'Resnu'}, {'$set': {'salary': 10000}})\n",
        "print('Data updated')\n",
        "\n",
        "collection.update_many({'department': 'Marketing'}, {'$inc': {'salary': 3000}})\n",
        "print('Multiple data updated')"
      ],
      "metadata": {
        "id": "TpXltzoxtshP",
        "outputId": "741be329-106e-4b06-a5a2-68d4622bf578",
        "colab": {
          "base_uri": "https://localhost:8080/"
        }
      },
      "id": "TpXltzoxtshP",
      "execution_count": 15,
      "outputs": [
        {
          "output_type": "stream",
          "name": "stdout",
          "text": [
            "Data updated\n",
            "Multiple data updated\n"
          ]
        }
      ]
    },
    {
      "cell_type": "code",
      "source": [
        "# Menghapus data\n",
        "collection.delete_one({'name': 'Alice'})\n",
        "print('Data deleted')"
      ],
      "metadata": {
        "id": "xaYtAERau1Rf",
        "outputId": "fb41b366-eaf2-4ce6-dab7-63957a0e0b17",
        "colab": {
          "base_uri": "https://localhost:8080/"
        }
      },
      "id": "xaYtAERau1Rf",
      "execution_count": 16,
      "outputs": [
        {
          "output_type": "stream",
          "name": "stdout",
          "text": [
            "Data deleted\n"
          ]
        }
      ]
    },
    {
      "cell_type": "code",
      "execution_count": 17,
      "id": "1fc95031",
      "metadata": {
        "id": "1fc95031",
        "outputId": "bf7b44c5-cb39-4b54-a2c9-8e51a0a1549c",
        "colab": {
          "base_uri": "https://localhost:8080/"
        }
      },
      "outputs": [
        {
          "output_type": "stream",
          "name": "stdout",
          "text": [
            "{'_id': ObjectId('674fae5cd306cca0440ca721'), 'name': 'Gema', 'department': 'Marketing', 'age': 22, 'salary': 8000}\n",
            "{'_id': ObjectId('674fae5cd306cca0440ca722'), 'name': 'Meily', 'department': 'IT', 'age': 20, 'salary': 6500}\n",
            "{'_id': ObjectId('674fae5cd306cca0440ca723'), 'name': 'Atul', 'department': 'Marketing', 'age': 18, 'salary': 10000}\n",
            "{'_id': ObjectId('674fae5cd306cca0440ca724'), 'name': 'Zharifa', 'department': 'Finance', 'age': 19, 'salary': 8000}\n",
            "{'_id': ObjectId('674faee8d306cca0440ca729'), 'name': 'Resnu', 'department': 'IT', 'age': 19, 'salary': 10000}\n"
          ]
        }
      ],
      "source": [
        "# Contoh Query Data\n",
        "for employee in collection.find():\n",
        "    print(employee)"
      ]
    },
    {
      "cell_type": "markdown",
      "id": "f5235dbb",
      "metadata": {
        "id": "f5235dbb"
      },
      "source": [
        "### 3. Query Lebih Kompleks Menggunakan Aggregation\n",
        "- **Tugas 3**: Terapkan aggregation untuk menghitung rata-rata gaji per departemen.\n"
      ]
    },
    {
      "cell_type": "code",
      "execution_count": 18,
      "id": "3ac107b3",
      "metadata": {
        "id": "3ac107b3",
        "outputId": "6186e04d-b214-4031-b69f-ddf4c677c24d",
        "colab": {
          "base_uri": "https://localhost:8080/"
        }
      },
      "outputs": [
        {
          "output_type": "stream",
          "name": "stdout",
          "text": [
            "{'_id': 'IT', 'average_salary': 8250.0}\n",
            "{'_id': 'Marketing', 'average_salary': 9000.0}\n",
            "{'_id': 'Finance', 'average_salary': 8000.0}\n"
          ]
        }
      ],
      "source": [
        "# Query Aggregation untuk mencari rata-rata gaji per departemen\n",
        "pipeline = [\n",
        "    {'$group': {'_id': '$department', 'average_salary': {'$avg': '$salary'}}}\n",
        "]\n",
        "for result in collection.aggregate(pipeline):\n",
        "    print(result)\n"
      ]
    },
    {
      "cell_type": "markdown",
      "id": "aba28dac",
      "metadata": {
        "id": "aba28dac"
      },
      "source": [
        "## 4. Latihan Tambahan\n",
        "- **Latihan 4.1**: Buatlah koleksi baru `products` dan masukkan data produk (minimal 10 produk).\n",
        "- **Latihan 4.2**: Lakukan query untuk menemukan produk dengan harga di atas rata-rata.\n",
        "- **Latihan 4.3**: Buatlah aggregation pipeline untuk menghitung total produk dalam setiap kategori.\n"
      ]
    },
    {
      "cell_type": "markdown",
      "source": [
        "### Latihan 1"
      ],
      "metadata": {
        "id": "HkIvNVk6S6Xp"
      },
      "id": "HkIvNVk6S6Xp"
    },
    {
      "cell_type": "code",
      "source": [
        "collection = db['Products']\n",
        "\n",
        "products_data = [\n",
        "    {'name': 'Xiaomi', 'category': 'Handphone', 'price': 8000},\n",
        "    {'name': 'Infinix', 'category': 'Handphone', 'price': 3000},\n",
        "    {'name': 'Legion', 'category': 'Laptop', 'price': 15000},\n",
        "    {'name': 'Nitro', 'category': 'Laptop', 'price': 10000},\n",
        "    {'name': 'Samsung', 'category': 'Tablet', 'price': 7000},\n",
        "    {'name': 'iPad', 'category': 'Tablet', 'price': 9000},\n",
        "    {'name': 'Redmi', 'category': 'Handphone', 'price': 5000},\n",
        "    {'name': 'Alienware', 'category': 'Laptop', 'price': 17000},\n",
        "    {'name': 'Iqoo', 'category': 'Handphone', 'price': 5000},\n",
        "    {'name': 'Huawei', 'category': 'Tablet', 'price': 7000},\n",
        "]\n",
        "collection.insert_many(products_data)\n",
        "print('Produk telah ditambahkan')"
      ],
      "metadata": {
        "id": "gydrS4Ckyvvv",
        "outputId": "2c7d00ea-9ed8-4a9b-d671-ae77a97c541f",
        "colab": {
          "base_uri": "https://localhost:8080/"
        }
      },
      "id": "gydrS4Ckyvvv",
      "execution_count": 19,
      "outputs": [
        {
          "output_type": "stream",
          "name": "stdout",
          "text": [
            "Produk telah ditambahkan\n"
          ]
        }
      ]
    },
    {
      "cell_type": "markdown",
      "source": [
        "### Latihan 2"
      ],
      "metadata": {
        "id": "GJuo-QXWTPTy"
      },
      "id": "GJuo-QXWTPTy"
    },
    {
      "cell_type": "code",
      "source": [
        "average_price = collection.aggregate([\n",
        "    {'$group': {'_id': None, 'average_price': {'$avg': '$price'}}}\n",
        "])\n",
        "\n",
        "average_price = list(average_price)[0]['average_price']\n",
        "print(f'Harga rata-rata: {average_price}')\n",
        "\n",
        "products_above_average = collection.find({'price': {'$gt': average_price}})\n",
        "print(\"Harga produk di atas rata-rata:\")\n",
        "for product in products_above_average:\n",
        "    print(product)"
      ],
      "metadata": {
        "id": "103mBtnE1jhP",
        "outputId": "ef138330-ff94-4f03-9750-ae8b50c6af82",
        "colab": {
          "base_uri": "https://localhost:8080/"
        }
      },
      "id": "103mBtnE1jhP",
      "execution_count": 20,
      "outputs": [
        {
          "output_type": "stream",
          "name": "stdout",
          "text": [
            "Harga rata-rata: 8600.0\n",
            "Harga produk di atas rata-rata:\n",
            "{'_id': ObjectId('674fb15ed306cca0440ca72c'), 'name': 'Legion', 'category': 'Laptop', 'price': 15000}\n",
            "{'_id': ObjectId('674fb15ed306cca0440ca72d'), 'name': 'Nitro', 'category': 'Laptop', 'price': 10000}\n",
            "{'_id': ObjectId('674fb15ed306cca0440ca72f'), 'name': 'iPad', 'category': 'Tablet', 'price': 9000}\n",
            "{'_id': ObjectId('674fb15ed306cca0440ca731'), 'name': 'Alienware', 'category': 'Laptop', 'price': 17000}\n"
          ]
        }
      ]
    },
    {
      "cell_type": "code",
      "source": [
        "category_count = collection.aggregate([\n",
        "    {'$group': {'_id': '$category', 'total_products': {'$sum': 1}}}\n",
        "])\n",
        "\n",
        "print(\"Total produk disetiap kategorinya:\")\n",
        "for category in category_count:\n",
        "    print(f\"{category['_id']}: {category['total_products']} produk\")"
      ],
      "metadata": {
        "id": "MLwWVJaN1xu3",
        "outputId": "7491321c-3adf-428e-ec29-6910b4d076d1",
        "colab": {
          "base_uri": "https://localhost:8080/"
        }
      },
      "id": "MLwWVJaN1xu3",
      "execution_count": 21,
      "outputs": [
        {
          "output_type": "stream",
          "name": "stdout",
          "text": [
            "Total produk disetiap kategorinya:\n",
            "Handphone: 4 produk\n",
            "Laptop: 3 produk\n",
            "Tablet: 3 produk\n"
          ]
        }
      ]
    },
    {
      "cell_type": "markdown",
      "id": "31fba268",
      "metadata": {
        "id": "31fba268"
      },
      "source": [
        "### 5. Tugas\n",
        "- **Tugas 1**: Cari 5 karyawan dengan gaji tertinggi dalam setiap departemen, gunakan query atau aggregation yang sesuai.\n",
        "- **Tugas 2**: Buatlah skenario di mana Anda harus menghapus karyawan yang berusia di bawah 25 tahun dari database.\n",
        "- **Tugas 3**: Buatlah laporan ringkas (menggunakan MongoDB query) yang menghitung total gaji karyawan di setiap departemen, serta rata-rata umur karyawan.\n"
      ]
    },
    {
      "cell_type": "code",
      "source": [
        "collection = db['Karyawan']\n",
        "\n",
        "employee_data = [\n",
        "    {'name': 'Meily', 'department': 'Finance', 'age': 30,'salary': 5500},\n",
        "    {'name': 'Resnu', 'department': 'IT', 'age': 29, 'salary': 6600},\n",
        "    {'name': 'Gema', 'department': 'IT', 'age': 23, 'salary': 6000},\n",
        "    {'name': 'Ipul', 'department': 'Marketing', 'age': 27, 'salary': 5500},\n",
        "    {'name': 'Atul', 'department': 'Finance', 'age': 30, 'salary': 5200},\n",
        "    {'name': 'Zharifa', 'department': 'IT', 'age': 24, 'salary': 6000},\n",
        "    {'name': 'Manda', 'department': 'IT', 'age': 34,'salary': 5000},\n",
        "    {'name': 'Ariel', 'department': 'Marketing', 'age': 25, 'salary': 4600},\n",
        "    {'name': 'Ida', 'department': 'Finance', 'age': 27, 'salary': 5000},\n",
        "    {'name': 'Adam', 'department': 'Marketing', 'age': 32, 'salary': 5300},\n",
        "    {'name': 'Vania', 'department': 'Finance', 'age': 27, 'salary': 5100},\n",
        "    {'name': 'Debi', 'department': 'IT', 'age': 30, 'salary': 5500},\n",
        "    {'name': 'Hasan', 'department': 'IT', 'age': 21, 'salary': 6100}\n",
        "]\n",
        "collection.insert_many(employee_data)\n",
        "print('Data inserted')"
      ],
      "metadata": {
        "id": "0X-LPn-J2PhX",
        "outputId": "31b4490a-8f7e-426b-e7b9-4fe843924b8d",
        "colab": {
          "base_uri": "https://localhost:8080/"
        }
      },
      "id": "0X-LPn-J2PhX",
      "execution_count": 25,
      "outputs": [
        {
          "output_type": "stream",
          "name": "stdout",
          "text": [
            "Data inserted\n"
          ]
        }
      ]
    },
    {
      "cell_type": "code",
      "source": [
        "for employee in collection.find():\n",
        "    print(employee)"
      ],
      "metadata": {
        "id": "a9Aps4XU4ukI",
        "outputId": "42e9f1d3-1a4a-4442-89e2-c9aa85a62fe4",
        "colab": {
          "base_uri": "https://localhost:8080/"
        }
      },
      "id": "a9Aps4XU4ukI",
      "execution_count": 27,
      "outputs": [
        {
          "output_type": "stream",
          "name": "stdout",
          "text": [
            "{'_id': ObjectId('674fb3a8d306cca0440ca741'), 'name': 'Meily', 'department': 'Finance', 'age': 30, 'salary': 5500}\n",
            "{'_id': ObjectId('674fb3a8d306cca0440ca742'), 'name': 'Resnu', 'department': 'IT', 'age': 29, 'salary': 6600}\n",
            "{'_id': ObjectId('674fb3a8d306cca0440ca743'), 'name': 'Gema', 'department': 'IT', 'age': 23, 'salary': 6000}\n",
            "{'_id': ObjectId('674fb3a8d306cca0440ca744'), 'name': 'Ipul', 'department': 'Marketing', 'age': 27, 'salary': 5500}\n",
            "{'_id': ObjectId('674fb3a8d306cca0440ca745'), 'name': 'Atul', 'department': 'Finance', 'age': 30, 'salary': 5200}\n",
            "{'_id': ObjectId('674fb3a8d306cca0440ca746'), 'name': 'Zharifa', 'department': 'IT', 'age': 24, 'salary': 6000}\n",
            "{'_id': ObjectId('674fb3a8d306cca0440ca747'), 'name': 'Manda', 'department': 'IT', 'age': 34, 'salary': 5000}\n",
            "{'_id': ObjectId('674fb3a8d306cca0440ca748'), 'name': 'Ariel', 'department': 'Marketing', 'age': 25, 'salary': 4600}\n",
            "{'_id': ObjectId('674fb3a8d306cca0440ca749'), 'name': 'Ida', 'department': 'Finance', 'age': 27, 'salary': 5000}\n",
            "{'_id': ObjectId('674fb3a8d306cca0440ca74a'), 'name': 'Adam', 'department': 'Marketing', 'age': 32, 'salary': 5300}\n",
            "{'_id': ObjectId('674fb3a8d306cca0440ca74b'), 'name': 'Vania', 'department': 'Finance', 'age': 27, 'salary': 5100}\n",
            "{'_id': ObjectId('674fb3a8d306cca0440ca74c'), 'name': 'Debi', 'department': 'IT', 'age': 30, 'salary': 5500}\n",
            "{'_id': ObjectId('674fb3a8d306cca0440ca74d'), 'name': 'Hasan', 'department': 'IT', 'age': 21, 'salary': 6100}\n"
          ]
        }
      ]
    },
    {
      "cell_type": "code",
      "source": [
        "top_5_employees_per_department = collection.aggregate([\n",
        "    {'$sort': {'department': 1, 'salary': -1}},\n",
        "    {'$group': {\n",
        "        '_id': '$department',\n",
        "        'top_employees': {'$push': {\n",
        "            'name': '$name',\n",
        "            'age': '$age',\n",
        "            'salary': '$salary'\n",
        "        }}\n",
        "    }},\n",
        "    {'$project': {\n",
        "        'top_employees': {'$slice': ['$top_employees', 5]}\n",
        "    }}\n",
        "])\n",
        "\n",
        "print(\"5 Karyawan dengan gaji tertinggi dalam setiap departemen:\")\n",
        "for department in top_5_employees_per_department:\n",
        "    print(f\"\\nDepartemen: {department['_id']}\")\n",
        "    for employee in department['top_employees']:\n",
        "        print(employee)"
      ],
      "metadata": {
        "id": "Ds3mGToT3F7v",
        "outputId": "1ab7e280-bd35-4869-9b84-b1d9a468965f",
        "colab": {
          "base_uri": "https://localhost:8080/"
        }
      },
      "id": "Ds3mGToT3F7v",
      "execution_count": 28,
      "outputs": [
        {
          "output_type": "stream",
          "name": "stdout",
          "text": [
            "5 Karyawan dengan gaji tertinggi dalam setiap departemen:\n",
            "\n",
            "Departemen: Finance\n",
            "{'name': 'Meily', 'age': 30, 'salary': 5500}\n",
            "{'name': 'Atul', 'age': 30, 'salary': 5200}\n",
            "{'name': 'Vania', 'age': 27, 'salary': 5100}\n",
            "{'name': 'Ida', 'age': 27, 'salary': 5000}\n",
            "\n",
            "Departemen: IT\n",
            "{'name': 'Resnu', 'age': 29, 'salary': 6600}\n",
            "{'name': 'Hasan', 'age': 21, 'salary': 6100}\n",
            "{'name': 'Gema', 'age': 23, 'salary': 6000}\n",
            "{'name': 'Zharifa', 'age': 24, 'salary': 6000}\n",
            "{'name': 'Debi', 'age': 30, 'salary': 5500}\n",
            "\n",
            "Departemen: Marketing\n",
            "{'name': 'Ipul', 'age': 27, 'salary': 5500}\n",
            "{'name': 'Adam', 'age': 32, 'salary': 5300}\n",
            "{'name': 'Ariel', 'age': 25, 'salary': 4600}\n"
          ]
        }
      ]
    },
    {
      "cell_type": "code",
      "source": [
        "result = collection.delete_many({'age': {'$lt': 25}})\n",
        "print(f\"{result.deleted_count} karyawan di bawah usia 25 tahun telah dihapus.\")"
      ],
      "metadata": {
        "id": "cyal4EZp71Hw",
        "outputId": "d3aacd30-a071-4fce-a8de-dd69e00f1cd9",
        "colab": {
          "base_uri": "https://localhost:8080/"
        }
      },
      "id": "cyal4EZp71Hw",
      "execution_count": 29,
      "outputs": [
        {
          "output_type": "stream",
          "name": "stdout",
          "text": [
            "3 karyawan di bawah usia 25 tahun telah dihapus.\n"
          ]
        }
      ]
    },
    {
      "cell_type": "code",
      "source": [
        "for employee in collection.find():\n",
        "    print(employee)"
      ],
      "metadata": {
        "id": "_lvNXfl578lo",
        "outputId": "eb4a851f-952b-4aed-eb6f-d4731d607e78",
        "colab": {
          "base_uri": "https://localhost:8080/"
        }
      },
      "id": "_lvNXfl578lo",
      "execution_count": 30,
      "outputs": [
        {
          "output_type": "stream",
          "name": "stdout",
          "text": [
            "{'_id': ObjectId('674fb3a8d306cca0440ca741'), 'name': 'Meily', 'department': 'Finance', 'age': 30, 'salary': 5500}\n",
            "{'_id': ObjectId('674fb3a8d306cca0440ca742'), 'name': 'Resnu', 'department': 'IT', 'age': 29, 'salary': 6600}\n",
            "{'_id': ObjectId('674fb3a8d306cca0440ca744'), 'name': 'Ipul', 'department': 'Marketing', 'age': 27, 'salary': 5500}\n",
            "{'_id': ObjectId('674fb3a8d306cca0440ca745'), 'name': 'Atul', 'department': 'Finance', 'age': 30, 'salary': 5200}\n",
            "{'_id': ObjectId('674fb3a8d306cca0440ca747'), 'name': 'Manda', 'department': 'IT', 'age': 34, 'salary': 5000}\n",
            "{'_id': ObjectId('674fb3a8d306cca0440ca748'), 'name': 'Ariel', 'department': 'Marketing', 'age': 25, 'salary': 4600}\n",
            "{'_id': ObjectId('674fb3a8d306cca0440ca749'), 'name': 'Ida', 'department': 'Finance', 'age': 27, 'salary': 5000}\n",
            "{'_id': ObjectId('674fb3a8d306cca0440ca74a'), 'name': 'Adam', 'department': 'Marketing', 'age': 32, 'salary': 5300}\n",
            "{'_id': ObjectId('674fb3a8d306cca0440ca74b'), 'name': 'Vania', 'department': 'Finance', 'age': 27, 'salary': 5100}\n",
            "{'_id': ObjectId('674fb3a8d306cca0440ca74c'), 'name': 'Debi', 'department': 'IT', 'age': 30, 'salary': 5500}\n"
          ]
        }
      ]
    },
    {
      "cell_type": "code",
      "source": [
        "total_salary_per_department = collection.aggregate([\n",
        "    {'$group': {\n",
        "        '_id': '$department',\n",
        "        'total_salary': {'$sum': '$salary'}\n",
        "    }}\n",
        "])\n",
        "\n",
        "print(\"Total gaji karyawan di setiap departemen:\")\n",
        "print(\"\")\n",
        "for dept in total_salary_per_department:\n",
        "    print(f\"Departemen {dept['_id']}\")\n",
        "    print(f\"Total Gaji : {dept['total_salary']}\")\n",
        "    print(\"\")\n",
        "\n",
        "average_age = collection.aggregate([\n",
        "    {'$group': {\n",
        "        '_id': None,\n",
        "        'average_age': {'$avg': '$age'}\n",
        "    }}\n",
        "])\n",
        "\n",
        "average_age = list(average_age)[0]['average_age']\n",
        "print(f\"\\nRata-rata umur karyawan: {average_age}\")"
      ],
      "metadata": {
        "id": "egXa_i1Y8TmI",
        "outputId": "25700c79-fea5-4fe0-e879-0191a58b1051",
        "colab": {
          "base_uri": "https://localhost:8080/"
        }
      },
      "id": "egXa_i1Y8TmI",
      "execution_count": 31,
      "outputs": [
        {
          "output_type": "stream",
          "name": "stdout",
          "text": [
            "Total gaji karyawan di setiap departemen:\n",
            "\n",
            "Departemen IT\n",
            "Total Gaji : 17100\n",
            "\n",
            "Departemen Marketing\n",
            "Total Gaji : 15400\n",
            "\n",
            "Departemen Finance\n",
            "Total Gaji : 20800\n",
            "\n",
            "\n",
            "Rata-rata umur karyawan: 29.1\n"
          ]
        }
      ]
    },
    {
      "cell_type": "code",
      "source": [
        "# Menghitung total gaji karyawan di setiap departemen\n",
        "total_salary_per_department = collection.aggregate([\n",
        "    {'$group': {\n",
        "        '_id': '$department',  # Kelompokkan berdasarkan departemen\n",
        "        'total_salary': {'$sum': '$salary'}  # Hitung total gaji di setiap departemen\n",
        "    }}\n",
        "])\n",
        "\n",
        "print(\"Total gaji karyawan di setiap departemen:\")\n",
        "for dept in total_salary_per_department:\n",
        "    print(f\"Departemen: {dept['_id']}, Total Gaji: {dept['total_salary']}\")\n",
        "\n",
        "# Menghitung rata-rata umur karyawan secara keseluruhan\n",
        "average_age = collection.aggregate([\n",
        "    {'$group': {\n",
        "        '_id': None,  # Mengelompokkan semua dokumen\n",
        "        'average_age': {'$avg': '$age'}  # Menghitung rata-rata umur\n",
        "    }}\n",
        "])\n",
        "\n",
        "# Menampilkan rata-rata umur\n",
        "average_age = list(average_age)[0]['average_age']\n",
        "print(f\"\\nRata-rata umur karyawan: {average_age}\")\n"
      ],
      "metadata": {
        "id": "1BMZ6BkZ87ZY",
        "outputId": "a262aa79-bff5-4d25-dca6-777fdbd291df",
        "colab": {
          "base_uri": "https://localhost:8080/"
        }
      },
      "id": "1BMZ6BkZ87ZY",
      "execution_count": 32,
      "outputs": [
        {
          "output_type": "stream",
          "name": "stdout",
          "text": [
            "Total gaji karyawan di setiap departemen:\n",
            "Departemen: Finance, Total Gaji: 20800\n",
            "Departemen: Marketing, Total Gaji: 15400\n",
            "Departemen: IT, Total Gaji: 17100\n",
            "\n",
            "Rata-rata umur karyawan: 29.1\n"
          ]
        }
      ]
    }
  ],
  "metadata": {
    "language_info": {
      "name": "python"
    },
    "colab": {
      "provenance": [],
      "collapsed_sections": [
        "36c82675"
      ]
    },
    "kernelspec": {
      "name": "python3",
      "display_name": "Python 3"
    }
  },
  "nbformat": 4,
  "nbformat_minor": 5
}