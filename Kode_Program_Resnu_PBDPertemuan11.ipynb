{
  "cells": [
    {
      "cell_type": "markdown",
      "id": "32f8193f",
      "metadata": {
        "id": "32f8193f"
      },
      "source": [
        "# Resnu Praktikum BD Pertemuan 11: Advanced MongoDB Operations and Data Query"
      ]
    },
    {
      "cell_type": "markdown",
      "id": "63c97234",
      "metadata": {
        "id": "63c97234"
      },
      "source": [
        "## Objectives:\n",
        "- Dive into advanced query operations and aggregation pipelines in MongoDB.\n",
        "- Enhance skills in filtering, grouping, and analyzing data with MongoDB.\n",
        "- Master complex MongoDB operations for real-world data scenarios.\n"
      ]
    },
    {
      "cell_type": "markdown",
      "id": "dc3e7a37",
      "metadata": {
        "id": "dc3e7a37"
      },
      "source": [
        "### 1. Advanced CRUD Operations\n",
        "- **Exercise 1**: Use `bulk_write` to insert, update, and delete multiple documents simultaneously.\n",
        "- **Task 1**: Insert a dataset of `courses` where each course has multiple student enrollments, then display the data.\n"
      ]
    },
    {
      "cell_type": "code",
      "source": [
        "! pip install pymongo"
      ],
      "metadata": {
        "id": "65A-DQEZcluZ",
        "outputId": "c1476079-ec4f-404c-e01b-4489bc3bfd07",
        "colab": {
          "base_uri": "https://localhost:8080/"
        }
      },
      "id": "65A-DQEZcluZ",
      "execution_count": null,
      "outputs": [
        {
          "output_type": "stream",
          "name": "stdout",
          "text": [
            "Collecting pymongo\n",
            "  Downloading pymongo-4.10.1-cp310-cp310-manylinux_2_17_x86_64.manylinux2014_x86_64.whl.metadata (22 kB)\n",
            "Collecting dnspython<3.0.0,>=1.16.0 (from pymongo)\n",
            "  Downloading dnspython-2.7.0-py3-none-any.whl.metadata (5.8 kB)\n",
            "Downloading pymongo-4.10.1-cp310-cp310-manylinux_2_17_x86_64.manylinux2014_x86_64.whl (1.4 MB)\n",
            "\u001b[2K   \u001b[90m━━━━━━━━━━━━━━━━━━━━━━━━━━━━━━━━━━━━━━━━\u001b[0m \u001b[32m1.4/1.4 MB\u001b[0m \u001b[31m42.8 MB/s\u001b[0m eta \u001b[36m0:00:00\u001b[0m\n",
            "\u001b[?25hDownloading dnspython-2.7.0-py3-none-any.whl (313 kB)\n",
            "\u001b[2K   \u001b[90m━━━━━━━━━━━━━━━━━━━━━━━━━━━━━━━━━━━━━━━━\u001b[0m \u001b[32m313.6/313.6 kB\u001b[0m \u001b[31m24.7 MB/s\u001b[0m eta \u001b[36m0:00:00\u001b[0m\n",
            "\u001b[?25hInstalling collected packages: dnspython, pymongo\n",
            "Successfully installed dnspython-2.7.0 pymongo-4.10.1\n"
          ]
        }
      ]
    },
    {
      "cell_type": "code",
      "execution_count": null,
      "id": "58749e3d",
      "metadata": {
        "id": "58749e3d",
        "outputId": "079df52d-70f4-40a4-984d-5415f2702cb8",
        "colab": {
          "base_uri": "https://localhost:8080/"
        }
      },
      "outputs": [
        {
          "output_type": "stream",
          "name": "stdout",
          "text": [
            "Courses inserted successfully.\n"
          ]
        }
      ],
      "source": [
        "from pymongo import MongoClient, InsertOne, UpdateOne, DeleteOne\n",
        "\n",
        "# Establish client connection\n",
        "client = MongoClient('mongodb+srv://resnumukti:<Password>@prakbdw10.67seg.mongodb.net/?retryWrites=true&w=majority&appName=PrakBDW10')\n",
        "db = client['university_db']\n",
        "courses_collection = db['courses']\n",
        "\n",
        "# Bulk insert of courses with student enrollments\n",
        "operations = [\n",
        "    InsertOne({'course': 'Math 101', 'enrollments': 30, 'department': 'Mathematics'}),\n",
        "    InsertOne({'course': 'CS 102', 'enrollments': 25, 'department': 'Computer Science'}),\n",
        "    InsertOne({'course': 'History 201', 'enrollments': 20, 'department': 'History'}),\n",
        "    InsertOne({'course': 'Physics 202', 'enrollments': 15, 'department': 'Physics'}),\n",
        "    InsertOne({'course': 'Law 201', 'enrollments': 35, 'department': 'Law'}),\n",
        "    InsertOne({'course': 'Geology 101', 'enrollments': 35, 'department': 'Geology'}),\n",
        "    InsertOne({'course': 'Anthropology 201', 'enrollments': 15, 'department': 'Anthropology'}),\n",
        "]\n",
        "courses_collection.bulk_write(operations)\n",
        "print('Courses inserted successfully.')\n"
      ]
    },
    {
      "cell_type": "code",
      "source": [
        "operations = [\n",
        "    UpdateOne({'course': 'Math 101'}, {'$set': {'enrollment': 50}}),\n",
        "    UpdateOne({'course': 'CS 102'}, {'$set': {'enrollment': 30}}),\n",
        "    UpdateOne({'course': 'History 201'}, {'$set': {'enrollment': 40}})\n",
        "]\n",
        "courses_collection.bulk_write(operations)\n",
        "print('Courses updated successfully.')"
      ],
      "metadata": {
        "id": "3_-3pDfUctZs",
        "outputId": "6d316924-5239-4bec-eb2a-a7f88c334930",
        "colab": {
          "base_uri": "https://localhost:8080/"
        }
      },
      "id": "3_-3pDfUctZs",
      "execution_count": null,
      "outputs": [
        {
          "output_type": "stream",
          "name": "stdout",
          "text": [
            "Courses updated successfully.\n"
          ]
        }
      ]
    },
    {
      "cell_type": "code",
      "source": [
        "operations = [\n",
        "    DeleteOne({'course': 'Law 201'}),\n",
        "    DeleteOne({'course': 'Geology 101'}),\n",
        "    DeleteOne({'course': 'Anthropology 201'})\n",
        "]\n",
        "courses_collection.bulk_write(operations)\n",
        "print('Courses deleted successfully.')"
      ],
      "metadata": {
        "id": "dWrkhcmGctRn",
        "outputId": "c81ead55-4b70-4b0f-c25f-4d3c385f339e",
        "colab": {
          "base_uri": "https://localhost:8080/"
        }
      },
      "id": "dWrkhcmGctRn",
      "execution_count": null,
      "outputs": [
        {
          "output_type": "stream",
          "name": "stdout",
          "text": [
            "Courses deleted successfully.\n"
          ]
        }
      ]
    },
    {
      "cell_type": "code",
      "source": [
        "operations = [\n",
        "    InsertOne({'course': 'Calculus 201', 'enrollments': 30, 'department': 'Mathematics'}),\n",
        "    InsertOne({'course': 'PA 101', 'enrollments': 25, 'department': 'Computer Science'}),\n",
        "    InsertOne({'course': 'Islam History 301', 'enrollments': 20, 'department': 'History'}),\n",
        "    InsertOne({'course': 'Discrete 202', 'enrollments': 15, 'department': 'Mathematics'}),\n",
        "    InsertOne({'course': 'Indonesia History 201', 'enrollments': 35, 'department': 'History'}),\n",
        "    InsertOne({'course': 'Big Data 101', 'enrollments': 35, 'department': 'Computer Science'}),\n",
        "    InsertOne({'course': 'Algebra 201', 'enrollments': 15, 'department': 'Mathematics'}),\n",
        "]\n",
        "courses_collection.bulk_write(operations)\n",
        "print('Courses inserted successfully.')"
      ],
      "metadata": {
        "id": "3IL1svBFfZi3",
        "outputId": "9b7fe247-3b0c-418c-c179-eb00e3d624f9",
        "colab": {
          "base_uri": "https://localhost:8080/"
        }
      },
      "id": "3IL1svBFfZi3",
      "execution_count": null,
      "outputs": [
        {
          "output_type": "stream",
          "name": "stdout",
          "text": [
            "Courses inserted successfully.\n"
          ]
        }
      ]
    },
    {
      "cell_type": "markdown",
      "id": "ea28ba03",
      "metadata": {
        "id": "ea28ba03"
      },
      "source": [
        "### 2. Complex Filtering and Querying\n",
        "- **Exercise 2**: Filter courses with enrollments over 20 students.\n",
        "- **Task 2**: Retrieve and display courses only from the 'Computer Science' or 'Mathematics' departments.\n"
      ]
    },
    {
      "cell_type": "code",
      "execution_count": null,
      "id": "8cacd4b7",
      "metadata": {
        "id": "8cacd4b7",
        "outputId": "ac7e8160-b1ca-48db-aa0b-df631c0eb2ac",
        "colab": {
          "base_uri": "https://localhost:8080/"
        }
      },
      "outputs": [
        {
          "output_type": "stream",
          "name": "stdout",
          "text": [
            "{'_id': ObjectId('674fbb0ebbb2b5c20d0fb042'), 'course': 'Math 101', 'enrollments': 30, 'department': 'Mathematics', 'enrollment': 50}\n",
            "{'_id': ObjectId('674fbb0ebbb2b5c20d0fb043'), 'course': 'CS 102', 'enrollments': 25, 'department': 'Computer Science', 'enrollment': 30}\n",
            "{'_id': ObjectId('674fbf18bbb2b5c20d0fb049'), 'course': 'Calculus 201', 'enrollments': 30, 'department': 'Mathematics'}\n",
            "{'_id': ObjectId('674fbf18bbb2b5c20d0fb04a'), 'course': 'PA 101', 'enrollments': 25, 'department': 'Computer Science'}\n",
            "{'_id': ObjectId('674fbf18bbb2b5c20d0fb04d'), 'course': 'Indonesia History 201', 'enrollments': 35, 'department': 'History'}\n",
            "{'_id': ObjectId('674fbf18bbb2b5c20d0fb04e'), 'course': 'Big Data 101', 'enrollments': 35, 'department': 'Computer Science'}\n"
          ]
        }
      ],
      "source": [
        "# Query for courses with enrollments greater than 20\n",
        "for course in courses_collection.find({'enrollments': {'$gt': 20}}):\n",
        "    print(course)\n"
      ]
    },
    {
      "cell_type": "code",
      "execution_count": null,
      "id": "27fd2372",
      "metadata": {
        "id": "27fd2372",
        "outputId": "166c149a-705f-4dac-bd69-a3a8105d7ea1",
        "colab": {
          "base_uri": "https://localhost:8080/"
        }
      },
      "outputs": [
        {
          "output_type": "stream",
          "name": "stdout",
          "text": [
            "{'_id': ObjectId('674fbb0ebbb2b5c20d0fb042'), 'course': 'Math 101', 'enrollments': 30, 'department': 'Mathematics', 'enrollment': 50}\n",
            "{'_id': ObjectId('674fbb0ebbb2b5c20d0fb043'), 'course': 'CS 102', 'enrollments': 25, 'department': 'Computer Science', 'enrollment': 30}\n",
            "{'_id': ObjectId('674fbf18bbb2b5c20d0fb049'), 'course': 'Calculus 201', 'enrollments': 30, 'department': 'Mathematics'}\n",
            "{'_id': ObjectId('674fbf18bbb2b5c20d0fb04a'), 'course': 'PA 101', 'enrollments': 25, 'department': 'Computer Science'}\n",
            "{'_id': ObjectId('674fbf18bbb2b5c20d0fb04c'), 'course': 'Discrete 202', 'enrollments': 15, 'department': 'Mathematics'}\n",
            "{'_id': ObjectId('674fbf18bbb2b5c20d0fb04e'), 'course': 'Big Data 101', 'enrollments': 35, 'department': 'Computer Science'}\n",
            "{'_id': ObjectId('674fbf18bbb2b5c20d0fb04f'), 'course': 'Algebra 201', 'enrollments': 15, 'department': 'Mathematics'}\n"
          ]
        }
      ],
      "source": [
        "# Query courses in Computer Science or Mathematics departments\n",
        "for course in courses_collection.find({'department': {'$in': ['Computer Science', 'Mathematics']}}):\n",
        "    print(course)\n"
      ]
    },
    {
      "cell_type": "markdown",
      "id": "5bd373c1",
      "metadata": {
        "id": "5bd373c1"
      },
      "source": [
        "### 3. Aggregation Framework for Data Analysis\n",
        "- **Exercise 3**: Use aggregation to find the average enrollment per department.\n",
        "- **Task 3**: Create an aggregation pipeline that finds the maximum enrollment for each department.\n"
      ]
    },
    {
      "cell_type": "code",
      "execution_count": null,
      "id": "97561541",
      "metadata": {
        "id": "97561541",
        "outputId": "b1edcb3a-deaf-4365-ab93-521cd4d78e99",
        "colab": {
          "base_uri": "https://localhost:8080/"
        }
      },
      "outputs": [
        {
          "output_type": "stream",
          "name": "stdout",
          "text": [
            "{'_id': 'Computer Science', 'average_enrollment': 28.333333333333332}\n",
            "{'_id': 'Physics', 'average_enrollment': 15.0}\n",
            "{'_id': 'History', 'average_enrollment': 25.0}\n",
            "{'_id': 'Mathematics', 'average_enrollment': 22.5}\n"
          ]
        }
      ],
      "source": [
        "# Average enrollment per department using aggregation\n",
        "pipeline = [\n",
        "    {'$group': {'_id': '$department', 'average_enrollment': {'$avg': '$enrollments'}}}\n",
        "]\n",
        "for result in courses_collection.aggregate(pipeline):\n",
        "    print(result)\n"
      ]
    },
    {
      "cell_type": "code",
      "execution_count": null,
      "id": "3ba91f68",
      "metadata": {
        "id": "3ba91f68",
        "outputId": "9479fafc-32da-4dd1-9745-05d9cd9f53ed",
        "colab": {
          "base_uri": "https://localhost:8080/"
        }
      },
      "outputs": [
        {
          "output_type": "stream",
          "name": "stdout",
          "text": [
            "{'_id': 'Mathematics', 'max_enrollment': 30}\n",
            "{'_id': 'Computer Science', 'max_enrollment': 35}\n",
            "{'_id': 'Physics', 'max_enrollment': 15}\n",
            "{'_id': 'History', 'max_enrollment': 35}\n"
          ]
        }
      ],
      "source": [
        "# Maximum enrollment per department\n",
        "pipeline = [\n",
        "    {'$group': {'_id': '$department', 'max_enrollment': {'$max': '$enrollments'}}}\n",
        "]\n",
        "for result in courses_collection.aggregate(pipeline):\n",
        "    print(result)\n"
      ]
    },
    {
      "cell_type": "markdown",
      "id": "2230ad7e",
      "metadata": {
        "id": "2230ad7e"
      },
      "source": [
        "### 4. Data Transformation using $project and $addFields\n",
        "- **Exercise 4**: Use `$project` to rename and only show fields: `course_name`, `department_name`, and `enrollments`.\n",
        "- **Task 4**: Use `$addFields` to create a new field `enrollment_category` where enrollments > 20 are 'high' and others 'low'.\n"
      ]
    },
    {
      "cell_type": "code",
      "execution_count": null,
      "id": "53034be1",
      "metadata": {
        "id": "53034be1",
        "outputId": "669b9139-a343-4380-8df9-3a24e9d1688d",
        "colab": {
          "base_uri": "https://localhost:8080/"
        }
      },
      "outputs": [
        {
          "output_type": "stream",
          "name": "stdout",
          "text": [
            "{'_id': ObjectId('674fbb0ebbb2b5c20d0fb042'), 'enrollments': 30, 'course_name': 'Math 101', 'department_name': 'Mathematics'}\n",
            "{'_id': ObjectId('674fbb0ebbb2b5c20d0fb043'), 'enrollments': 25, 'course_name': 'CS 102', 'department_name': 'Computer Science'}\n",
            "{'_id': ObjectId('674fbb0ebbb2b5c20d0fb044'), 'enrollments': 20, 'course_name': 'History 201', 'department_name': 'History'}\n",
            "{'_id': ObjectId('674fbb0ebbb2b5c20d0fb045'), 'enrollments': 15, 'course_name': 'Physics 202', 'department_name': 'Physics'}\n",
            "{'_id': ObjectId('674fbf18bbb2b5c20d0fb049'), 'enrollments': 30, 'course_name': 'Calculus 201', 'department_name': 'Mathematics'}\n",
            "{'_id': ObjectId('674fbf18bbb2b5c20d0fb04a'), 'enrollments': 25, 'course_name': 'PA 101', 'department_name': 'Computer Science'}\n",
            "{'_id': ObjectId('674fbf18bbb2b5c20d0fb04b'), 'enrollments': 20, 'course_name': 'Islam History 301', 'department_name': 'History'}\n",
            "{'_id': ObjectId('674fbf18bbb2b5c20d0fb04c'), 'enrollments': 15, 'course_name': 'Discrete 202', 'department_name': 'Mathematics'}\n",
            "{'_id': ObjectId('674fbf18bbb2b5c20d0fb04d'), 'enrollments': 35, 'course_name': 'Indonesia History 201', 'department_name': 'History'}\n",
            "{'_id': ObjectId('674fbf18bbb2b5c20d0fb04e'), 'enrollments': 35, 'course_name': 'Big Data 101', 'department_name': 'Computer Science'}\n",
            "{'_id': ObjectId('674fbf18bbb2b5c20d0fb04f'), 'enrollments': 15, 'course_name': 'Algebra 201', 'department_name': 'Mathematics'}\n"
          ]
        }
      ],
      "source": [
        "# Projection to rename fields\n",
        "pipeline = [\n",
        "    {'$project': {'course_name': '$course', 'department_name': '$department', 'enrollments': 1}}\n",
        "]\n",
        "for result in courses_collection.aggregate(pipeline):\n",
        "    print(result)\n"
      ]
    },
    {
      "cell_type": "code",
      "execution_count": null,
      "id": "e846e40d",
      "metadata": {
        "id": "e846e40d",
        "outputId": "b41b4e15-b416-4786-f9cd-0959feecfbe0",
        "colab": {
          "base_uri": "https://localhost:8080/"
        }
      },
      "outputs": [
        {
          "output_type": "stream",
          "name": "stdout",
          "text": [
            "{'_id': ObjectId('674fbb0ebbb2b5c20d0fb042'), 'course': 'Math 101', 'enrollments': 30, 'department': 'Mathematics', 'enrollment': 50, 'enrollment_category': 'high'}\n",
            "{'_id': ObjectId('674fbb0ebbb2b5c20d0fb043'), 'course': 'CS 102', 'enrollments': 25, 'department': 'Computer Science', 'enrollment': 30, 'enrollment_category': 'high'}\n",
            "{'_id': ObjectId('674fbb0ebbb2b5c20d0fb044'), 'course': 'History 201', 'enrollments': 20, 'department': 'History', 'enrollment': 40, 'enrollment_category': 'low'}\n",
            "{'_id': ObjectId('674fbb0ebbb2b5c20d0fb045'), 'course': 'Physics 202', 'enrollments': 15, 'department': 'Physics', 'enrollment_category': 'low'}\n",
            "{'_id': ObjectId('674fbf18bbb2b5c20d0fb049'), 'course': 'Calculus 201', 'enrollments': 30, 'department': 'Mathematics', 'enrollment_category': 'high'}\n",
            "{'_id': ObjectId('674fbf18bbb2b5c20d0fb04a'), 'course': 'PA 101', 'enrollments': 25, 'department': 'Computer Science', 'enrollment_category': 'high'}\n",
            "{'_id': ObjectId('674fbf18bbb2b5c20d0fb04b'), 'course': 'Islam History 301', 'enrollments': 20, 'department': 'History', 'enrollment_category': 'low'}\n",
            "{'_id': ObjectId('674fbf18bbb2b5c20d0fb04c'), 'course': 'Discrete 202', 'enrollments': 15, 'department': 'Mathematics', 'enrollment_category': 'low'}\n",
            "{'_id': ObjectId('674fbf18bbb2b5c20d0fb04d'), 'course': 'Indonesia History 201', 'enrollments': 35, 'department': 'History', 'enrollment_category': 'high'}\n",
            "{'_id': ObjectId('674fbf18bbb2b5c20d0fb04e'), 'course': 'Big Data 101', 'enrollments': 35, 'department': 'Computer Science', 'enrollment_category': 'high'}\n",
            "{'_id': ObjectId('674fbf18bbb2b5c20d0fb04f'), 'course': 'Algebra 201', 'enrollments': 15, 'department': 'Mathematics', 'enrollment_category': 'low'}\n"
          ]
        }
      ],
      "source": [
        "# Adding enrollment category field based on enrollments\n",
        "pipeline = [\n",
        "    {'$addFields': {'enrollment_category': {'$cond': {'if': {'$gt': ['$enrollments', 20]}, 'then': 'high', 'else': 'low'}}}}\n",
        "]\n",
        "for result in courses_collection.aggregate(pipeline):\n",
        "    print(result)\n"
      ]
    },
    {
      "cell_type": "markdown",
      "id": "37796e1c",
      "metadata": {
        "id": "37796e1c"
      },
      "source": [
        "### Homework for Students\n",
        "- **Homework 1**: Perform an aggregation to get a count of courses per department.\n",
        "- **Homework 2**: Use `$match` and `$group` together to filter and get only courses with enrollments over 25 in 'Computer Science'.\n",
        "- **Homework 3**: Apply `$lookup` to join `courses` collection with `students` collection based on student enrollments.\n"
      ]
    },
    {
      "cell_type": "code",
      "source": [
        "# HW 1\n",
        "pipeline = [\n",
        "    {'$group':{'_id':'$department','sum_courses':{'$sum':1}}}\n",
        "]\n",
        "for result in courses_collection.aggregate(pipeline):\n",
        "    print(result)"
      ],
      "metadata": {
        "id": "Ihfq6CTNhTVa",
        "outputId": "b53bc859-4f17-4958-f53d-a53c08d2802a",
        "colab": {
          "base_uri": "https://localhost:8080/"
        }
      },
      "id": "Ihfq6CTNhTVa",
      "execution_count": null,
      "outputs": [
        {
          "output_type": "stream",
          "name": "stdout",
          "text": [
            "{'_id': 'Mathematics', 'sum_courses': 4}\n",
            "{'_id': 'Physics', 'sum_courses': 1}\n",
            "{'_id': 'Computer Science', 'sum_courses': 3}\n",
            "{'_id': 'History', 'sum_courses': 3}\n"
          ]
        }
      ]
    },
    {
      "cell_type": "code",
      "source": [
        "# HW 2\n",
        "pipeline = [\n",
        "    {'$match': {'department': 'Computer Science', 'enrollments': {'$gt': 25}}},\n",
        "    {'$group': {'_id': '$course', 'total_enrollments': {'$sum': '$enrollments'}}}\n",
        "]\n",
        "\n",
        "for result in courses_collection.aggregate(pipeline):\n",
        "    print(result)"
      ],
      "metadata": {
        "id": "llvcSeJ7hXco",
        "outputId": "8ea1c8db-cbff-41aa-f368-63787135e40c",
        "colab": {
          "base_uri": "https://localhost:8080/"
        }
      },
      "id": "llvcSeJ7hXco",
      "execution_count": null,
      "outputs": [
        {
          "output_type": "stream",
          "name": "stdout",
          "text": [
            "{'_id': 'Big Data 101', 'total_enrollments': 35}\n"
          ]
        }
      ]
    },
    {
      "cell_type": "code",
      "source": [
        "# HW 3\n",
        "db = client['university_db']\n",
        "students_collection = db['students']\n",
        "\n",
        "# List dokumen siswa yang ingin ditambahkan ke students_collection\n",
        "students = [\n",
        "    {\"_id\": 101, \"name\": \"Knight\", \"enrolled_course\": \"CS 102\", \"major\": \"Computer Science\"},\n",
        "    {\"_id\": 102, \"name\": \"Nightfall\", \"enrolled_course\": \"Math 101\", \"major\": \"Mathematics\"},\n",
        "    {\"_id\": 103, \"name\": \"Whitemoon\", \"enrolled_course\": \"CS 102\", \"major\": \"Computer Science\"},\n",
        "    {\"_id\": 104, \"name\": \"Eleven\", \"enrolled_course\": \"Math 101\", \"major\": \"Mathematics\"},\n",
        "    {\"_id\": 105, \"name\": \"Konoha\", \"enrolled_course\": \"Islam History 301\", \"major\": \"History\"}\n",
        "]\n",
        "\n",
        "# Creating a list of InsertOne operations\n",
        "operations = [InsertOne(student) for student in students]\n",
        "\n",
        "# Performing the bulk write operation\n",
        "\n",
        "students_collection.bulk_write(operations)\n",
        "print(\"Students inserted successfully.\")"
      ],
      "metadata": {
        "id": "pFN4edigiGTI",
        "outputId": "0d6c4565-6e68-4395-82be-e68180e5a023",
        "colab": {
          "base_uri": "https://localhost:8080/"
        }
      },
      "id": "pFN4edigiGTI",
      "execution_count": null,
      "outputs": [
        {
          "output_type": "stream",
          "name": "stdout",
          "text": [
            "Students inserted successfully.\n"
          ]
        }
      ]
    },
    {
      "cell_type": "code",
      "source": [
        "pipeline = [\n",
        "    {\n",
        "        '$lookup': {\n",
        "            'from': 'students',# Koleksi yang akan digabungkan\n",
        "            'localField': 'course',# Field di koleksi courses\n",
        "            'foreignField': 'enrolled_course',# Field di koleksi students\n",
        "            'as': 'student_enrollments'# Nama field hasil join di koleksi courses\n",
        "        }\n",
        "    }\n",
        "]\n",
        "\n",
        "# Mengeksekusi pipeline\n",
        "for result in courses_collection.aggregate(pipeline):\n",
        "    print(result)\n"
      ],
      "metadata": {
        "id": "MWcyMkNui8GP",
        "outputId": "0dd96602-f754-44c5-f3ac-fed2492afc2e",
        "colab": {
          "base_uri": "https://localhost:8080/"
        }
      },
      "id": "MWcyMkNui8GP",
      "execution_count": null,
      "outputs": [
        {
          "output_type": "stream",
          "name": "stdout",
          "text": [
            "{'_id': ObjectId('674fbb0ebbb2b5c20d0fb042'), 'course': 'Math 101', 'enrollments': 30, 'department': 'Mathematics', 'enrollment': 50, 'student_enrollments': [{'_id': 102, 'name': 'Nightfall', 'enrolled_course': 'Math 101', 'major': 'Mathematics'}, {'_id': 104, 'name': 'Eleven', 'enrolled_course': 'Math 101', 'major': 'Mathematics'}]}\n",
            "{'_id': ObjectId('674fbb0ebbb2b5c20d0fb043'), 'course': 'CS 102', 'enrollments': 25, 'department': 'Computer Science', 'enrollment': 30, 'student_enrollments': [{'_id': 101, 'name': 'Knight', 'enrolled_course': 'CS 102', 'major': 'Computer Science'}, {'_id': 103, 'name': 'Whitemoon', 'enrolled_course': 'CS 102', 'major': 'Computer Science'}]}\n",
            "{'_id': ObjectId('674fbb0ebbb2b5c20d0fb044'), 'course': 'History 201', 'enrollments': 20, 'department': 'History', 'enrollment': 40, 'student_enrollments': []}\n",
            "{'_id': ObjectId('674fbb0ebbb2b5c20d0fb045'), 'course': 'Physics 202', 'enrollments': 15, 'department': 'Physics', 'student_enrollments': []}\n",
            "{'_id': ObjectId('674fbf18bbb2b5c20d0fb049'), 'course': 'Calculus 201', 'enrollments': 30, 'department': 'Mathematics', 'student_enrollments': []}\n",
            "{'_id': ObjectId('674fbf18bbb2b5c20d0fb04a'), 'course': 'PA 101', 'enrollments': 25, 'department': 'Computer Science', 'student_enrollments': []}\n",
            "{'_id': ObjectId('674fbf18bbb2b5c20d0fb04b'), 'course': 'Islam History 301', 'enrollments': 20, 'department': 'History', 'student_enrollments': [{'_id': 105, 'name': 'Konoha', 'enrolled_course': 'Islam History 301', 'major': 'History'}]}\n",
            "{'_id': ObjectId('674fbf18bbb2b5c20d0fb04c'), 'course': 'Discrete 202', 'enrollments': 15, 'department': 'Mathematics', 'student_enrollments': []}\n",
            "{'_id': ObjectId('674fbf18bbb2b5c20d0fb04d'), 'course': 'Indonesia History 201', 'enrollments': 35, 'department': 'History', 'student_enrollments': []}\n",
            "{'_id': ObjectId('674fbf18bbb2b5c20d0fb04e'), 'course': 'Big Data 101', 'enrollments': 35, 'department': 'Computer Science', 'student_enrollments': []}\n",
            "{'_id': ObjectId('674fbf18bbb2b5c20d0fb04f'), 'course': 'Algebra 201', 'enrollments': 15, 'department': 'Mathematics', 'student_enrollments': []}\n"
          ]
        }
      ]
    }
  ],
  "metadata": {
    "colab": {
      "provenance": []
    },
    "language_info": {
      "name": "python"
    },
    "kernelspec": {
      "name": "python3",
      "display_name": "Python 3"
    }
  },
  "nbformat": 4,
  "nbformat_minor": 5
}