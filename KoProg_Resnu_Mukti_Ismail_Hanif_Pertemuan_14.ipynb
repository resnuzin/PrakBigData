{
  "cells": [
    {
      "cell_type": "markdown",
      "id": "e2a030e3",
      "metadata": {
        "id": "e2a030e3"
      },
      "source": [
        "# Resnu Mukti Ismail Hanif : Advanced Machine Learning using Spark MLlib"
      ]
    },
    {
      "cell_type": "code",
      "source": [
        "# Menghubungkan Google Colab dengan Drive\n",
        "from google.colab import drive\n",
        "drive.mount('/content/drive')"
      ],
      "metadata": {
        "id": "pJhk3HiwCTXu",
        "outputId": "9b11c458-36a9-4736-b706-05d6d16ed400",
        "colab": {
          "base_uri": "https://localhost:8080/"
        }
      },
      "id": "pJhk3HiwCTXu",
      "execution_count": null,
      "outputs": [
        {
          "output_type": "stream",
          "name": "stdout",
          "text": [
            "Drive already mounted at /content/drive; to attempt to forcibly remount, call drive.mount(\"/content/drive\", force_remount=True).\n"
          ]
        }
      ]
    },
    {
      "cell_type": "markdown",
      "id": "099562db",
      "metadata": {
        "id": "099562db"
      },
      "source": [
        "## Objectives:\n",
        "- Understand and implement advanced machine learning tasks using Spark MLlib.\n",
        "- Build and evaluate models using real-world datasets.\n",
        "- Explore techniques like feature engineering and hyperparameter tuning.\n"
      ]
    },
    {
      "cell_type": "markdown",
      "id": "77df771a",
      "metadata": {
        "id": "77df771a"
      },
      "source": [
        "## Introduction to Spark MLlib\n",
        "Spark MLlib is a scalable library for machine learning that integrates seamlessly with the Spark ecosystem. It supports a wide range of tasks, including regression, classification, clustering, and collaborative filtering."
      ]
    },
    {
      "cell_type": "code",
      "execution_count": 2,
      "id": "d9ae225b",
      "metadata": {
        "id": "d9ae225b",
        "colab": {
          "base_uri": "https://localhost:8080/"
        },
        "outputId": "b659cf81-6fb1-422a-e2f6-f2944040ebad"
      },
      "outputs": [
        {
          "output_type": "stream",
          "name": "stdout",
          "text": [
            "Coefficients: [0.9999999999999992]\n",
            "Intercept: 15.000000000000009\n"
          ]
        }
      ],
      "source": [
        "# Example: Linear Regression with Spark MLlib\n",
        "from pyspark.sql import SparkSession\n",
        "from pyspark.ml.regression import LinearRegression\n",
        "from pyspark.ml.feature import VectorAssembler\n",
        "\n",
        "# Initialize Spark Session\n",
        "spark = SparkSession.builder.appName('MLlib Example').getOrCreate()\n",
        "\n",
        "# Load sample data\n",
        "data = [(1, 5.0, 20.0), (2, 10.0, 25.0), (3, 15.0, 30.0), (4, 20.0, 35.0)]\n",
        "columns = ['ID', 'Feature', 'Target']\n",
        "df = spark.createDataFrame(data, columns)\n",
        "\n",
        "# Prepare data for modeling\n",
        "assembler = VectorAssembler(inputCols=['Feature'], outputCol='Features')\n",
        "df_transformed = assembler.transform(df)\n",
        "\n",
        "# Train a linear regression model\n",
        "lr = LinearRegression(featuresCol='Features', labelCol='Target')\n",
        "model = lr.fit(df_transformed)\n",
        "\n",
        "# Print model coefficients\n",
        "print(f'Coefficients: {model.coefficients}')\n",
        "print(f'Intercept: {model.intercept}')\n"
      ]
    },
    {
      "cell_type": "code",
      "execution_count": 4,
      "id": "0b266267",
      "metadata": {
        "id": "0b266267",
        "colab": {
          "base_uri": "https://localhost:8080/"
        },
        "outputId": "3607955c-7e91-47a5-ed2d-1e570c86a407"
      },
      "outputs": [
        {
          "output_type": "stream",
          "name": "stdout",
          "text": [
            "Coefficients: [-12.262057929180484,4.087352266486688]\n",
            "Intercept: 11.56891272665312\n"
          ]
        }
      ],
      "source": [
        "# Practice: Logistic Regression\n",
        "from pyspark.ml.classification import LogisticRegression\n",
        "from pyspark.ml.linalg import Vectors\n",
        "\n",
        "spark = SparkSession.builder.appName('MLlib Example').getOrCreate()\n",
        "\n",
        "# Example dataset\n",
        "data = [(1, Vectors.dense([2.0, 3.0]), 0),\n",
        "        (2, Vectors.dense([1.0, 5.0]), 1),\n",
        "        (3, Vectors.dense([2.5, 4.5]), 1),\n",
        "        (4, Vectors.dense([3.0, 6.0]), 0)]\n",
        "columns = ['ID', 'Features', 'Label']\n",
        "df = spark.createDataFrame(data, columns)\n",
        "\n",
        "# Train logistic regression model\n",
        "lr = LogisticRegression(featuresCol='Features', labelCol='Label')\n",
        "model = lr.fit(df)\n",
        "\n",
        "# Display coefficients and summary\n",
        "print(f'Coefficients: {model.coefficients}')\n",
        "print(f'Intercept: {model.intercept}')\n"
      ]
    },
    {
      "cell_type": "code",
      "execution_count": null,
      "id": "b9066e04",
      "metadata": {
        "id": "b9066e04",
        "colab": {
          "base_uri": "https://localhost:8080/"
        },
        "outputId": "0c3c5935-fa39-40ae-f807-33f54d2ab9ff"
      },
      "outputs": [
        {
          "output_type": "stream",
          "name": "stdout",
          "text": [
            "Cluster Centers: [array([12.5, 12.5]), array([3., 3.])]\n"
          ]
        }
      ],
      "source": [
        "# Practice: KMeans Clustering\n",
        "from pyspark.ml.clustering import KMeans\n",
        "from pyspark.ml.linalg import Vectors\n",
        "\n",
        "spark = SparkSession.builder.appName('MLlib Example').getOrCreate()\n",
        "\n",
        "# Example dataset\n",
        "data = [(1, Vectors.dense([1.0, 1.0])), (2, Vectors.dense([5.0, 5.0])), (3, Vectors.dense([10.0, 10.0])), (4, Vectors.dense([15.0, 15.0]))]\n",
        "columns = ['ID', 'Features']\n",
        "df = spark.createDataFrame(data, columns)\n",
        "\n",
        "# Train KMeans clustering model\n",
        "kmeans = KMeans(featuresCol='Features', k=2)\n",
        "model = kmeans.fit(df)\n",
        "\n",
        "# Show cluster centers\n",
        "centers = model.clusterCenters()\n",
        "print(f'Cluster Centers: {centers}')\n"
      ]
    },
    {
      "cell_type": "markdown",
      "id": "a60a8d7e",
      "metadata": {
        "id": "a60a8d7e"
      },
      "source": [
        "## Homework\n",
        "- Load a real-world dataset into Spark and prepare it for machine learning tasks.\n",
        "- Build a classification model using Spark MLlib and evaluate its performance.\n",
        "- Explore hyperparameter tuning using cross-validation.\n"
      ]
    },
    {
      "cell_type": "code",
      "source": [
        "from pyspark.sql import SparkSession\n",
        "from pyspark.ml.feature import VectorAssembler\n",
        "from pyspark.ml.feature import StringIndexer\n",
        "from pyspark.ml.classification import LogisticRegression\n",
        "from pyspark.ml.evaluation import MulticlassClassificationEvaluator\n",
        "\n",
        "# Inisialisasi SparkSession\n",
        "spark = SparkSession.builder.appName(\"Logistic Regression Classification\").getOrCreate()\n",
        "\n",
        "# Load data yang sudah di data cleaning sebelumnya\n",
        "file_path = \"/content/drive/MyDrive/Pertemuan14/Titanic.csv\"\n",
        "data = spark.read.csv(file_path, header=True, inferSchema=True)\n",
        "data.show()\n",
        "\n",
        "# Preprocessing data\n",
        "# 1. Encode label kolom (jika label berupa string)\n",
        "label_column = \"Survived\"\n",
        "features_columns = [\"Sex\", \"Age\", \"Fare\", \"Pclass\", \"SibSp\", ]\n",
        "\n",
        "# Ubah label menjadi numeric\n",
        "label_indexer = StringIndexer(inputCol=label_column, outputCol=\"indexedLabel\")\n",
        "data = label_indexer.fit(data).transform(data)\n",
        "\n",
        "# 2. Gabungkan fitur menjadi satu vektor\n",
        "assembler = VectorAssembler(inputCols=features_columns, outputCol=\"features\")\n",
        "data = assembler.transform(data)\n",
        "\n",
        "# Pisahkan data menjadi training dan testing\n",
        "train_data, test_data = data.randomSplit([0.8, 0.2], seed=42)\n",
        "\n",
        "# Buat model Logistic Regression\n",
        "lr = LogisticRegression(featuresCol=\"features\", labelCol=\"indexedLabel\")\n",
        "\n",
        "# Latih model\n",
        "lr_model = lr.fit(train_data)\n",
        "\n",
        "# Prediksi pada data testing\n",
        "predictions = lr_model.transform(test_data)\n",
        "\n",
        "# Evaluasi model\n",
        "evaluator = MulticlassClassificationEvaluator(labelCol=\"indexedLabel\", predictionCol=\"prediction\", metricName=\"accuracy\")\n",
        "accuracy = evaluator.evaluate(predictions)\n",
        "print(f\"Model Accuracy: {accuracy}\")\n",
        "\n",
        "# Tampilkan beberapa hasil prediksi\n",
        "predictions.select(\"indexedLabel\", \"prediction\", \"probability\").show()"
      ],
      "metadata": {
        "colab": {
          "base_uri": "https://localhost:8080/"
        },
        "id": "fdCS9LKxGNRv",
        "outputId": "4a19ff60-b3a7-4601-d2bf-9159a74e0587"
      },
      "id": "fdCS9LKxGNRv",
      "execution_count": null,
      "outputs": [
        {
          "output_type": "stream",
          "name": "stdout",
          "text": [
            "+-----------+--------+------+--------------------+---+-------------------+-----+-----+----------------+--------------------+-------+--------+\n",
            "|PassengerId|Survived|Pclass|                Name|Sex|                Age|SibSp|Parch|          Ticket|                Fare|  Cabin|Embarked|\n",
            "+-----------+--------+------+--------------------+---+-------------------+-----+-----+----------------+--------------------+-------+--------+\n",
            "|          1|       0|     3|Braund, Mr. Owen ...|  0| 0.2711736617240512|    1|    0|       A/5 21171|0.014151057562208049|Unknown|       S|\n",
            "|          3|       1|     3|Heikkinen, Miss. ...|  1|0.32143754712239253|    0|    0|STON/O2. 3101282|0.015468569817999833|Unknown|       S|\n",
            "|          4|       1|     1|Futrelle, Mrs. Ja...|  1| 0.4345312892686604|    1|    0|          113803| 0.10364429745562033|   C123|       S|\n",
            "|          5|       0|     3|Allen, Mr. Willia...|  0| 0.4345312892686604|    0|    0|          373450|0.015712553569072387|Unknown|       S|\n",
            "|          6|       0|     3|    Moran, Mr. James|  0|0.36792055349407915|    0|    0|          330877| 0.01650950209357577|Unknown|       Q|\n",
            "|          7|       0|     1|McCarthy, Mr. Tim...|  0| 0.6732847449107816|    0|    0|           17463| 0.10122885832000206|    E46|       S|\n",
            "|          8|       0|     3|Palsson, Master. ...|  0|0.01985423473234481|    3|    1|          349909| 0.04113566043083236|Unknown|       S|\n",
            "|          9|       1|     3|Johnson, Mrs. Osc...|  1|0.33400351847197784|    0|    2|          347742|0.021730754366528396|Unknown|       S|\n",
            "|         10|       1|     2|Nasser, Mrs. Nich...|  1|0.17064589092736868|    1|    0|          237736|0.058694292654020104|Unknown|       C|\n",
            "|         11|       1|     3|Sandstrom, Miss. ...|  1|0.04498617743151546|    1|    1|         PP 9549| 0.03259622914329302|     G6|       S|\n",
            "|         12|       1|     1|Bonnell, Miss. El...|  1|  0.723548630309123|    0|    0|          113783|0.051822148727810165|   C103|       S|\n",
            "|         13|       0|     3|Saundercock, Mr. ...|  0|0.24604171902488062|    0|    0|       A/5. 2151|0.015712553569072387|Unknown|       S|\n",
            "|         14|       0|     3|Andersson, Mr. An...|  0| 0.4847951746670017|    1|    5|          347082| 0.06104473451835265|Unknown|       S|\n",
            "|         15|       0|     3|Vestrom, Miss. Hu...|  1|0.17064589092736868|    0|    0|          350406|0.015330377421392339|Unknown|       S|\n",
            "|         16|       1|     2|Hewlett, Mrs. (Ma...|  1|  0.685850716260367|    0|    0|          248706| 0.03122992013728673|Unknown|       S|\n",
            "|         17|       0|     3|Rice, Master. Eugene|  0|0.01985423473234481|    4|    1|          382652| 0.05684821399990475|Unknown|       Q|\n",
            "|         18|       1|     2|Williams, Mr. Cha...|  0|0.36792055349407915|    0|    0|          244373|0.025374310111545468|Unknown|       S|\n",
            "|         19|       0|     3|Vander Planke, Mr...|  1|0.38426740387031916|    1|    0|          345763| 0.03513366015444757|Unknown|       S|\n",
            "|         20|       1|     3|Masselmani, Mrs. ...|  1|0.36792055349407915|    0|    0|            2649|0.014102260811993537|Unknown|       C|\n",
            "|         21|       0|     2|Fynney, Mr. Joseph J|  0| 0.4345312892686604|    0|    0|          239865|0.050748620223090936|Unknown|       S|\n",
            "+-----------+--------+------+--------------------+---+-------------------+-----+-----+----------------+--------------------+-------+--------+\n",
            "only showing top 20 rows\n",
            "\n",
            "Model Accuracy: 0.8064516129032258\n",
            "+------------+----------+--------------------+\n",
            "|indexedLabel|prediction|         probability|\n",
            "+------------+----------+--------------------+\n",
            "|         1.0|       1.0|[0.08225432849479...|\n",
            "|         0.0|       0.0|[0.91114884262118...|\n",
            "|         1.0|       1.0|[0.13437210995614...|\n",
            "|         0.0|       1.0|[0.26741994302542...|\n",
            "|         0.0|       0.0|[0.74324766322018...|\n",
            "|         0.0|       0.0|[0.53322180822159...|\n",
            "|         1.0|       1.0|[0.42561198302428...|\n",
            "|         1.0|       1.0|[0.37633199240067...|\n",
            "|         0.0|       1.0|[0.36933632865327...|\n",
            "|         0.0|       0.0|[0.92880800084558...|\n",
            "|         0.0|       0.0|[0.85472332902394...|\n",
            "|         0.0|       0.0|[0.62340441415922...|\n",
            "|         1.0|       1.0|[0.17735082151246...|\n",
            "|         0.0|       0.0|[0.86238624367672...|\n",
            "|         0.0|       0.0|[0.96047913790514...|\n",
            "|         0.0|       0.0|[0.89609870130718...|\n",
            "|         1.0|       0.0|[0.80566281375762...|\n",
            "|         0.0|       0.0|[0.50370349461859...|\n",
            "|         1.0|       0.0|[0.86634854779676...|\n",
            "|         0.0|       0.0|[0.94663280046304...|\n",
            "+------------+----------+--------------------+\n",
            "only showing top 20 rows\n",
            "\n"
          ]
        }
      ]
    },
    {
      "cell_type": "code",
      "source": [
        "from pyspark.sql import SparkSession\n",
        "from pyspark.ml.feature import VectorAssembler, StringIndexer\n",
        "from pyspark.ml.classification import LogisticRegression\n",
        "from pyspark.ml.evaluation import MulticlassClassificationEvaluator\n",
        "from pyspark.ml.tuning import CrossValidator, ParamGridBuilder\n",
        "from pyspark.ml import Pipeline\n",
        "\n",
        "# Inisialisasi SparkSession\n",
        "spark = SparkSession.builder.appName(\"Logistic Regression with Cross-Validation\").getOrCreate()\n",
        "\n",
        "# Kolom label dan fiturs\n",
        "label_column = \"Survived\"\n",
        "features_columns = [\"Sex\", \"Age\", \"Fare\", \"Pclass\", \"SibSp\", \"Parch\"]\n",
        "\n",
        "# Ubah label menjadi nilai numerik\n",
        "label_inddndexer = StringIndexer(inputCol=label_column, outputCol=\"ind\")\n",
        "data = label_inddndexer.fit(data).transform(data)\n",
        "\n",
        "# Ubah kolom kategori menjadi numerik (misalnya, Sex)\n",
        "for column in [\"Sex\"]:  # Tambahkan kolom kategori lainnya jika ada\n",
        "    indexer = StringIndexer(inputCol=column, outputCol=f\"{column}_indd\")\n",
        "    data = indexer.fit(data).transform(data)\n",
        "    features_columns.remove(column)\n",
        "    features_columns.append(f\"{column}_indd\")\n",
        "\n",
        "# Gabungkan fiturs menjadi vektor tunggal\n",
        "assembler = VectorAssembler(inputCols=features_columns, outputCol=\"fiturs\")\n",
        "data = assembler.transform(data)\n",
        "\n",
        "# Pisahkan data menjadi training dan testing\n",
        "train_data, test_data = data.randomSplit([0.9, 0.1], seed=42)\n",
        "\n",
        "# Logistic Regression model\n",
        "lr = LogisticRegression(featuresCol=\"fiturs\", labelCol=\"ind\")\n",
        "\n",
        "# Cross-validation dengan Hyperparameter Tuning\n",
        "# Buat grid untuk hyperparameter tuning\n",
        "param_grid = (ParamGridBuilder()\n",
        "              .addGrid(lr.regParam, [0.01, 0.1, 1.0])  # Regularization parameter\n",
        "              .addGrid(lr.maxIter, [10, 50, 100])  # Jumlah iterasi\n",
        "              .addGrid(lr.elasticNetParam, [0.0, 0.5, 1.0])  # ElasticNet parameter\n",
        "              .build())\n",
        "\n",
        "# Evaluator untuk evaluasi model\n",
        "evaluator = MulticlassClassificationEvaluator(labelCol=\"ind\", predictionCol=\"prediction\", metricName=\"accuracy\")\n",
        "\n",
        "# CrossValidator untuk cross-validation\n",
        "crossval = CrossValidator(estimator=lr, estimatorParamMaps=param_grid, evaluator=evaluator,numFolds=5)  # 5-fold cross-validation\n",
        "\n",
        "# Latih model dengan Cross-Validation\n",
        "cv_model = crossval.fit(train_data)\n",
        "\n",
        "# Ambil model terbaik setelah cross-validation\n",
        "best_model = cv_model.bestModel\n",
        "\n",
        "# Tampilkan koefisien dan intercept dari model terbaik\n",
        "print(f\"Best Model Coefficients: {best_model.coefficients}\")\n",
        "print(f\"Best Model Intercept: {best_model.intercept}\")\n",
        "\n",
        "# Prediksi pada data testing\n",
        "predictions = best_model.transform(test_data)\n",
        "\n",
        "# Evaluasi model\n",
        "accuracy = evaluator.evaluate(predictions)\n",
        "print(f\"Best Model Accuracy: {accuracy}\")\n",
        "\n",
        "# Tampilkan beberapa hasil prediksi\n",
        "predictions.select(\"ind\", \"prediction\", \"probability\").show()"
      ],
      "metadata": {
        "colab": {
          "base_uri": "https://localhost:8080/"
        },
        "id": "d6xaX7d4XKlN",
        "outputId": "74a10134-23c6-48ba-f148-38dd08115d3e"
      },
      "id": "d6xaX7d4XKlN",
      "execution_count": null,
      "outputs": [
        {
          "output_type": "stream",
          "name": "stdout",
          "text": [
            "Best Model Coefficients: [-3.2860317252661,15.559149248896164,-0.714117308210292,-0.4816661084891112,-0.1660201681281415,2.326073330404171]\n",
            "Best Model Intercept: 1.0698041996903624\n",
            "Best Model Accuracy: 0.8166666666666667\n",
            "+---+----------+--------------------+\n",
            "|ind|prediction|         probability|\n",
            "+---+----------+--------------------+\n",
            "|0.0|       0.0|[0.89175285019756...|\n",
            "|1.0|       1.0|[0.13723326069264...|\n",
            "|0.0|       0.0|[0.84362606576265...|\n",
            "|0.0|       0.0|[0.85120535148271...|\n",
            "|1.0|       0.0|[0.74181363719666...|\n",
            "|0.0|       1.0|[0.49712307284592...|\n",
            "|0.0|       0.0|[0.93711664799273...|\n",
            "|0.0|       0.0|[0.89826154883747...|\n",
            "|0.0|       0.0|[0.83682104230538...|\n",
            "|0.0|       0.0|[0.95767601130740...|\n",
            "|0.0|       1.0|[0.33958141672134...|\n",
            "|0.0|       0.0|[0.90566911411434...|\n",
            "|1.0|       1.0|[0.30036579868203...|\n",
            "|1.0|       0.0|[0.69141866002956...|\n",
            "|0.0|       0.0|[0.77200755602657...|\n",
            "|1.0|       0.0|[0.55142399793961...|\n",
            "|0.0|       1.0|[0.47797904941623...|\n",
            "|1.0|       1.0|[0.35484638241384...|\n",
            "|0.0|       0.0|[0.85892941051847...|\n",
            "|1.0|       0.0|[0.92681673998206...|\n",
            "+---+----------+--------------------+\n",
            "only showing top 20 rows\n",
            "\n"
          ]
        }
      ]
    }
  ],
  "metadata": {
    "colab": {
      "provenance": []
    },
    "language_info": {
      "name": "python"
    },
    "kernelspec": {
      "name": "python3",
      "display_name": "Python 3"
    }
  },
  "nbformat": 4,
  "nbformat_minor": 5
}