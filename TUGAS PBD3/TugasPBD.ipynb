{
 "cells": [
  {
   "cell_type": "code",
   "execution_count": 11,
   "metadata": {},
   "outputs": [
    {
     "name": "stdout",
     "output_type": "stream",
     "text": [
      "Hallo : 1\n",
      "guys : 4\n",
      "namaku : 1\n",
      "resnu : 1\n",
      "aku : 1\n",
      "berkuliah : 1\n",
      "di : 1\n",
      "untidar : 1\n",
      ", : 1\n",
      "salam : 1\n",
      "kenal : 1\n"
     ]
    }
   ],
   "source": [
    "from collections import defaultdict\n",
    "\n",
    "# File yang digunakan untuk menjalankan code\n",
    "data = open(\"D:\\BEKERJA\\SEMESTER3\\PBIGDATA\\TugasPBD.txt\", \"r\")\n",
    "\n",
    "# Function map untuk membagi kalimat menjadi kata\n",
    "def map_function(text):\n",
    "       for word in text.split():\n",
    "            yield (word, 1)\n",
    "\n",
    "# Function ini mengumpulkan pasangan (kata, jumlah) dan menambahkan jumlah untuk setiap kata yang sama.\n",
    "def reduce_function(pairs):\n",
    "       result = defaultdict(int)\n",
    "       for word, count in pairs:\n",
    "           result[word] += count\n",
    "       return result\n",
    "\n",
    "# Function ini sebagai wadah untuk data yang sudah melawati map dan reduce dan dimasukkan ke dalam array kosong\n",
    "def wordcount(texts):\n",
    "      map_result = []\n",
    "      for text in texts:\n",
    "            map_result.extend(map_function(text))\n",
    "      return reduce_function(map_result)\n",
    "\n",
    "# Menjalankan program\n",
    "mapped = wordcount(data)\n",
    "\n",
    "# Menampilkan hasil MapReduce\n",
    "for word, count in mapped.items():\n",
    "      print(f\"{word} : {count}\")"
   ]
  },
  {
   "cell_type": "code",
   "execution_count": 9,
   "metadata": {},
   "outputs": [
    {
     "name": "stdout",
     "output_type": "stream",
     "text": [
      "Rata-rata: 53.4\n"
     ]
    }
   ],
   "source": [
    "from functools import reduce\n",
    "\n",
    "# Memproses setiap baris menjadi (jumlah, jumlah elemen)\n",
    "def mapper(line):\n",
    "    number = float(line.strip())\n",
    "    return (number, 1)\n",
    "\n",
    "# Function Reducer untuk menggabungkan hasil Mapper\n",
    "def reducer(pair1, pair2):\n",
    "    total_sum = pair1[0] + pair2[0] \n",
    "    total_count = pair1[1] + pair2[1]\n",
    "    return (total_sum, total_count)\n",
    "\n",
    "# Function untuk menghitung rata-rata\n",
    "def calculate_average(filename):\n",
    "    with open(filename, 'r') as f:\n",
    "        lines = f.readlines() \n",
    "    \n",
    "    # Map : Memproses setiap baris\n",
    "    mapped = map(mapper, lines)\n",
    "    \n",
    "    # Reduce : Menggabungkan hasil mapper\n",
    "    total_sum, total_count = reduce(reducer, mapped)\n",
    "    \n",
    "    # Code untuk menghitung rata-rata\n",
    "    average = total_sum / total_count if total_count != 0 else 0\n",
    "    return average\n",
    "\n",
    "filename = 'C:/trying/tryingresnu.csv' \n",
    "average = calculate_average(filename)\n",
    "print(f'Rata-rata: {average}')"
   ]
  }
 ],
 "metadata": {
  "kernelspec": {
   "display_name": "Python 3",
   "language": "python",
   "name": "python3"
  },
  "language_info": {
   "codemirror_mode": {
    "name": "ipython",
    "version": 3
   },
   "file_extension": ".py",
   "mimetype": "text/x-python",
   "name": "python",
   "nbconvert_exporter": "python",
   "pygments_lexer": "ipython3",
   "version": "3.10.11"
  }
 },
 "nbformat": 4,
 "nbformat_minor": 2
}
